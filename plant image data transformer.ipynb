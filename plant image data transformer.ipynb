{
 "cells": [
  {
   "cell_type": "code",
   "execution_count": 1,
   "metadata": {
    "ExecuteTime": {
     "end_time": "2023-07-20T12:29:30.365732Z",
     "start_time": "2023-07-20T12:29:30.271285900Z"
    },
    "collapsed": true
   },
   "outputs": [],
   "source": [
    "import numpy as np\n",
    "import pandas as ps\n",
    "from matplotlib import pyplot as plt\n",
    "import tensorflow as tf\n",
    "from tensorflow import keras\n",
    "from tensorflow.keras.models import Sequential\n",
    "from tensorflow.keras.layers import Activation,Dense,Flatten,BatchNormalization,Conv2D,MaxPool2D\n",
    "from tensorflow.keras.optimizers import Adam\n",
    "from tensorflow.keras.metrics import categorical_crossentropy\n",
    "from tensorflow.keras.preprocessing.image import ImageDataGenerator\n",
    "from sklearn.metrics import confusion_matrix\n",
    "import itertools\n",
    "import os\n",
    "import shutil\n",
    "import random\n",
    "import glob\n",
    "import matplotlib.pyplot as plt\n",
    "import warnings\n",
    "warnings.simplefilter(action='ignore',category=FutureWarning)\n",
    "%matplotlib inline"
   ]
  },
  {
   "cell_type": "code",
   "execution_count": 3,
   "metadata": {
    "ExecuteTime": {
     "end_time": "2023-07-20T08:41:23.648766400Z",
     "start_time": "2023-07-20T08:41:23.621784500Z"
    },
    "collapsed": false
   },
   "outputs": [
    {
     "name": "stdout",
     "output_type": "stream",
     "text": [
      "No GPUs Available.\n"
     ]
    }
   ],
   "source": [
    "physical_devices = tf.config.experimental.list_physical_devices('GPU')\n",
    "if len(physical_devices) > 0:\n",
    "    print('Num GPUs Available: ', len(physical_devices))\n",
    "    tf.config.experimental.set_memory_growth(physical_devices[0], True)\n",
    "else:\n",
    "    print('No GPUs Available.')"
   ]
  },
  {
   "cell_type": "markdown",
   "metadata": {},
   "source": [
    "Preparing data"
   ]
  },
  {
   "cell_type": "code",
   "execution_count": 44,
   "metadata": {},
   "outputs": [],
   "source": [
    "root_images_folder='D:\\plant image classification\\images'\n",
    "root_directories=os.listdir(root_images_folder)\n",
    "required_directories=[]\n",
    "\n",
    "\n",
    "\n",
    "train_path= 'D:/plant image classification/plant-classsification/train'\n",
    "test_path='D:/plant image classification/plant-classsification/test'\n",
    "\n",
    "\n",
    "\n",
    "for i in root_directories :\n",
    "    b=os.listdir(f'{root_images_folder}\\{i}')\n",
    "    if len(b)>=50:\n",
    "        shutil.move(f'{root_images_folder}\\{i}',train_path)\n"
   ]
  },
  {
   "cell_type": "code",
   "execution_count": 18,
   "metadata": {},
   "outputs": [],
   "source": [
    "train_path= 'D:/plant image classification/plant-classsification/train'\n",
    "test_path='D:/plant image classification/plant-classsification/test'\n",
    "\n",
    "for i in os.listdir(train_path):\n",
    "    source=f'{train_path}/{i}'\n",
    "    destination=f'{test_path}/{i}'\n",
    "    \n",
    "    if not os.path.exists(destination):\n",
    "        os.makedirs(destination)\n",
    "    train_path_images=os.listdir(source)\n",
    "    rand_images=random.sample(train_path_images,k=int(len(train_path_images)*0.2))\n",
    "    \n",
    "    for j in rand_images:\n",
    "        shutil.move(f'{source}/{j}',f'{destination}/{j}')\n",
    "        \n",
    "    \n",
    "    "
   ]
  },
  {
   "cell_type": "code",
   "execution_count": null,
   "metadata": {},
   "outputs": [],
   "source": []
  }
 ],
 "metadata": {
  "kernelspec": {
   "display_name": "Python 3",
   "language": "python",
   "name": "python3"
  },
  "language_info": {
   "codemirror_mode": {
    "name": "ipython",
    "version": 3
   },
   "file_extension": ".py",
   "mimetype": "text/x-python",
   "name": "python",
   "nbconvert_exporter": "python",
   "pygments_lexer": "ipython3",
   "version": "3.11.1"
  }
 },
 "nbformat": 4,
 "nbformat_minor": 0
}
