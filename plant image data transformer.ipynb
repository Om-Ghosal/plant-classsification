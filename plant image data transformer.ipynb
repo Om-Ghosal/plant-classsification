{
 "cells": [
  {
   "cell_type": "code",
   "execution_count": 37,
   "metadata": {
    "ExecuteTime": {
     "end_time": "2023-07-20T12:29:30.365732Z",
     "start_time": "2023-07-20T12:29:30.271285900Z"
    },
    "collapsed": true
   },
   "outputs": [],
   "source": [
    "import numpy as np\n",
    "import pandas as ps\n",
    "from matplotlib import pyplot as plt\n",
    "import tensorflow as tf\n",
    "from tensorflow import keras\n",
    "from tensorflow.keras.models import Sequential\n",
    "from tensorflow.keras.layers import Activation,Dense,Flatten,BatchNormalization,Conv2D,MaxPool2D\n",
    "from tensorflow.keras.optimizers import Adam\n",
    "from tensorflow.keras.metrics import categorical_crossentropy\n",
    "from tensorflow.keras.preprocessing.image import ImageDataGenerator\n",
    "from sklearn.metrics import confusion_matrix\n",
    "import itertools\n",
    "import os\n",
    "import shutil\n",
    "import random\n",
    "import glob\n",
    "import matplotlib.pyplot as plt\n",
    "import warnings\n",
    "warnings.simplefilter(action='ignore',category=FutureWarning)\n",
    "%matplotlib inline"
   ]
  },
  {
   "cell_type": "code",
   "execution_count": 6,
   "metadata": {
    "ExecuteTime": {
     "end_time": "2023-07-20T08:41:23.648766400Z",
     "start_time": "2023-07-20T08:41:23.621784500Z"
    },
    "collapsed": false
   },
   "outputs": [
    {
     "name": "stdout",
     "output_type": "stream",
     "text": [
      "No GPUs Available.\n"
     ]
    }
   ],
   "source": [
    "physical_devices = tf.config.experimental.list_physical_devices('GPU')\n",
    "if len(physical_devices) > 0:\n",
    "    print('Num GPUs Available: ', len(physical_devices))\n",
    "    tf.config.experimental.set_memory_growth(physical_devices[0], True)\n",
    "else:\n",
    "    print('No GPUs Available.')"
   ]
  },
  {
   "cell_type": "markdown",
   "metadata": {},
   "source": [
    "Preparing data"
   ]
  },
  {
   "cell_type": "code",
   "execution_count": 41,
   "metadata": {},
   "outputs": [
    {
     "ename": "FileNotFoundError",
     "evalue": "[WinError 3] The system cannot find the path specified: 'D:/plant image classification/plant-classsification/test\\\\D'",
     "output_type": "error",
     "traceback": [
      "\u001b[1;31m---------------------------------------------------------------------------\u001b[0m",
      "\u001b[1;31mFileNotFoundError\u001b[0m                         Traceback (most recent call last)",
      "Cell \u001b[1;32mIn[41], line 13\u001b[0m\n\u001b[0;32m      8\u001b[0m test_path\u001b[39m=\u001b[39m\u001b[39m'\u001b[39m\u001b[39mD:/plant image classification/plant-classsification/train\u001b[39m\u001b[39m'\u001b[39m\n\u001b[0;32m     12\u001b[0m \u001b[39mfor\u001b[39;00m i \u001b[39min\u001b[39;00m test_path :\n\u001b[1;32m---> 13\u001b[0m     b\u001b[39m=\u001b[39mos\u001b[39m.\u001b[39;49mlistdir(\u001b[39mf\u001b[39;49m\u001b[39m'\u001b[39;49m\u001b[39m{\u001b[39;49;00mtrain_path\u001b[39m}\u001b[39;49;00m\u001b[39m\\\u001b[39;49m\u001b[39m{\u001b[39;49;00mi\u001b[39m}\u001b[39;49;00m\u001b[39m'\u001b[39;49m)\n\u001b[0;32m     14\u001b[0m     \u001b[39mif\u001b[39;00m \u001b[39mlen\u001b[39m(b)\u001b[39m>\u001b[39m\u001b[39m=\u001b[39m\u001b[39m50\u001b[39m:\n\u001b[0;32m     15\u001b[0m         shutil\u001b[39m.\u001b[39mmove(test_path,train_path)\n",
      "\u001b[1;31mFileNotFoundError\u001b[0m: [WinError 3] The system cannot find the path specified: 'D:/plant image classification/plant-classsification/test\\\\D'"
     ]
    }
   ],
   "source": [
    "root_images_folder='D:\\plant image classification\\images'\n",
    "root_directories=os.listdir(root_images_folder)\n",
    "required_directories=[]\n",
    "\n",
    "\n",
    "\n",
    "train_path= 'D:/plant image classification/plant-classsification/test'\n",
    "test_path='D:/plant image classification/plant-classsification/train'\n",
    "\n",
    "\n",
    "\n",
    "for i in os.listdir(test_path) :\n",
    "    b=os.listdir(f'{train_path}\\{i}')\n",
    "    if len(b)>=50:\n",
    "        shutil.move(test_path,train_path)\n"
   ]
  },
  {
   "cell_type": "code",
   "execution_count": null,
   "metadata": {},
   "outputs": [],
   "source": []
  }
 ],
 "metadata": {
  "kernelspec": {
   "display_name": "Python 3",
   "language": "python",
   "name": "python3"
  },
  "language_info": {
   "codemirror_mode": {
    "name": "ipython",
    "version": 3
   },
   "file_extension": ".py",
   "mimetype": "text/x-python",
   "name": "python",
   "nbconvert_exporter": "python",
   "pygments_lexer": "ipython3",
   "version": "3.11.1"
  }
 },
 "nbformat": 4,
 "nbformat_minor": 0
}
